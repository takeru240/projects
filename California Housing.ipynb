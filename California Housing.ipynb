{
 "cells": [
  {
   "cell_type": "code",
   "execution_count": 33,
   "metadata": {
    "id": "HXcYn3t9tnSB"
   },
   "outputs": [],
   "source": [
    "# Core libraries\n",
    "import numpy as np\n",
    "import matplotlib.pyplot as plt\n",
    "\n",
    "# Third-party libraries\n",
    "import pandas as pd\n",
    "import seaborn as sns\n",
    "import plotly.express as px\n",
    "import plotly.graph_objects as go\n",
    "from sklearn.datasets import fetch_california_housing\n",
    "from sklearn.preprocessing import OneHotEncoder\n",
    "from sklearn.compose import ColumnTransformer\n",
    "from sklearn.pipeline import Pipeline\n",
    "import statsmodels.api as sm\n",
    "from statsmodels.iolib.summary2 import summary_col\n",
    "from sklearn.model_selection import train_test_split\n",
    "from sklearn.linear_model import Lasso, Ridge, LinearRegression\n",
    "from sklearn.metrics import mean_squared_error, r2_score, mean_absolute_error\n",
    "from sklearn.cluster import KMeans"
   ]
  },
  {
   "cell_type": "code",
   "execution_count": null,
   "metadata": {
    "colab": {
     "base_uri": "https://localhost:8080/",
     "height": 424
    },
    "id": "iwwE3xacmeoq",
    "outputId": "e5705ac9-2f41-4509-a87f-edcb34c33c34"
   },
   "outputs": [],
   "source": [
    "california = fetch_california_housing()\n",
    "df = pd.concat([pd.DataFrame(data=california.target, columns=['MedHouseVal']), pd.DataFrame(data=california.data, columns = california.feature_names)], axis=1)\n",
    "df"
   ]
  },
  {
   "cell_type": "code",
   "execution_count": null,
   "metadata": {},
   "outputs": [],
   "source": [
    "df.hist(figsize=(12, 10), bins=30, edgecolor=\"black\")\n",
    "plt.subplots_adjust(hspace=0.7, wspace=0.4)"
   ]
  },
  {
   "cell_type": "code",
   "execution_count": null,
   "metadata": {},
   "outputs": [],
   "source": [
    "columns_drop = [\"Longitude\", \"Latitude\"]\n",
    "subset = df.loc[:, ['MedHouseVal', 'MedInc', 'HouseAge', 'AveRooms', 'AveBedrms', 'Population', 'AveOccup', 'Latitude', 'Longitude']]\n",
    "# Quantize the target and keep the midpoint for each interval\n",
    "subset[\"MedHouseVal\"] = pd.qcut(subset[\"MedHouseVal\"], 6, retbins=False)\n",
    "subset[\"MedHouseVal\"] = subset[\"MedHouseVal\"].apply(lambda x: x.mid)\n",
    "_ = sns.pairplot(data=subset, hue=\"MedHouseVal\", palette=\"viridis\")"
   ]
  },
  {
   "cell_type": "code",
   "execution_count": null,
   "metadata": {},
   "outputs": [],
   "source": [
    "X = df[['MedInc', 'HouseAge', 'AveRooms', 'AveBedrms', 'Population', 'AveOccup', 'Latitude', 'Longitude']]\n",
    "y = df['MedHouseVal']\n",
    "\n",
    "X = sm.add_constant(X)\n",
    "model = sm.OLS(y, X).fit()\n",
    "print(model.summary())"
   ]
  },
  {
   "cell_type": "code",
   "execution_count": null,
   "metadata": {},
   "outputs": [],
   "source": [
    "fig = px.choropleth_mapbox(\n",
    "    df,\n",
    "    geojson='https://raw.githubusercontent.com/plotly/datasets/master/geojson-counties-fips.json',\n",
    "    color='MedHouseVal',\n",
    "    color_continuous_scale='viridis',  \n",
    "    range_color=(df['MedHouseVal'].min(), df['MedHouseVal'].max()), \n",
    "    mapbox_style='carto-positron', \n",
    "    zoom=5, \n",
    "    center={'lat': 36.7783, 'lon': -119.4179},\n",
    "    opacity=0.7, \n",
    "    hover_name='MedHouseVal', \n",
    "    title='Choropleth Map of Median House Values in California'\n",
    ")\n",
    "\n",
    "scatter_fig = px.scatter_mapbox(\n",
    "    df,\n",
    "    lat='Latitude', \n",
    "    lon='Longitude',\n",
    "    color='MedHouseVal', \n",
    "    color_continuous_scale='viridis', \n",
    "    size_max=15,  \n",
    "    opacity=0.7,\n",
    "    hover_name='MedHouseVal', \n",
    ")\n",
    "\n",
    "fig.add_trace(scatter_fig.data[0])\n",
    "\n",
    "fig.update_layout(\n",
    "    margin=dict(l=0, r=0, t=30, b=0),\n",
    "    height=600,\n",
    "    width=800\n",
    ")\n",
    "\n",
    "fig.show()"
   ]
  },
  {
   "cell_type": "code",
   "execution_count": null,
   "metadata": {},
   "outputs": [],
   "source": [
    "# from plotly.offline import plot\n",
    "# plot(fig, filename='plotly_plot.html', auto_open=False)"
   ]
  },
  {
   "cell_type": "markdown",
   "metadata": {},
   "source": [
    "Visualize clustering example. Ideally you will want the clusters to match the Y variable (of course you will not want to include the Y variable)."
   ]
  },
  {
   "cell_type": "code",
   "execution_count": null,
   "metadata": {},
   "outputs": [],
   "source": [
    "kmeans = KMeans(n_clusters=15, n_init=10)\n",
    "df['Cluster'] = kmeans.fit_predict(df[['MedInc', 'HouseAge', 'AveRooms', 'AveBedrms', 'AveOccup', 'Latitude', 'Longitude', 'Population']])\n",
    "\n",
    "fig = px.choropleth_mapbox(\n",
    "    df,\n",
    "    geojson='https://raw.githubusercontent.com/plotly/datasets/master/geojson-counties-fips.json',  \n",
    "    color='Cluster', \n",
    "    color_continuous_scale='viridis',  \n",
    "    range_color=(df['Cluster'].min(), df['Cluster'].max()), \n",
    "    mapbox_style='carto-positron', \n",
    "    zoom=5, \n",
    "    center={'lat': 36.7783, 'lon': -119.4179},\n",
    "    opacity=0.7, \n",
    "    hover_name='Cluster', \n",
    "    title='Choropleth Map of 15 Kmeans Clusters'\n",
    ")\n",
    "\n",
    "# height_fig = px.scatter_3d(df, x='Longitude', y='Latitude', z='MedHouseVal',\n",
    "#                     color='Cluster', symbol='Cluster',\n",
    "#                     size_max=10, opacity=0.7,\n",
    "#                     title='3D Scatter Plot with MedHouseVal as Height')\n",
    "# fig.add_trace(height_fig)\n",
    "\n",
    "scatter_fig = px.scatter_mapbox(\n",
    "    df,\n",
    "    lat='Latitude',  \n",
    "    lon='Longitude',  \n",
    "    color='Cluster',  \n",
    "    color_continuous_scale='viridis',  \n",
    "    size_max=15,\n",
    "    opacity=0.7,  \n",
    "    hover_name='Cluster',  \n",
    ")\n",
    "\n",
    "fig.add_trace(scatter_fig.data[0])\n",
    "\n",
    "fig.update_layout(\n",
    "    margin=dict(l=0, r=0, t=30, b=0),\n",
    "    height=600,\n",
    "    width=800\n",
    ")\n",
    "\n",
    "fig.show()\n"
   ]
  },
  {
   "cell_type": "markdown",
   "metadata": {},
   "source": [
    "Regression"
   ]
  },
  {
   "cell_type": "code",
   "execution_count": 34,
   "metadata": {},
   "outputs": [
    {
     "name": "stderr",
     "output_type": "stream",
     "text": [
      "c:\\ProgramData\\miniconda3\\Lib\\site-packages\\sklearn\\cluster\\_kmeans.py:1412: FutureWarning: The default value of `n_init` will change from 10 to 'auto' in 1.4. Set the value of `n_init` explicitly to suppress the warning\n",
      "  super()._check_params_vs_input(X, default_n_init=10)\n"
     ]
    },
    {
     "name": "stdout",
     "output_type": "stream",
     "text": [
      "   Model  R-squared      RMSE       MAE\n",
      "0    OLS   0.576707  0.744773  0.532895\n",
      "1  Lasso   0.531817  0.783270  0.581607\n",
      "2  Ridge   0.576724  0.744758  0.532893\n"
     ]
    }
   ],
   "source": [
    "california = fetch_california_housing()\n",
    "df = pd.concat([pd.DataFrame(data=california.target, columns=['MedHouseVal']), pd.DataFrame(data=california.data, columns = california.feature_names)], axis=1)\n",
    "\n",
    "X = df.drop(['MedHouseVal'], axis=1)\n",
    "y = df['MedHouseVal']\n",
    "\n",
    "X_train, X_test, y_train, y_test = train_test_split(X, y, test_size=0.2, random_state=42)\n",
    "\n",
    "n = 10 #number of clusters\n",
    "kmeans = KMeans(n_clusters=n, random_state=42) \n",
    "X_train['cluster'] = kmeans.fit_predict(X_train)\n",
    "X_train = pd.get_dummies(X_train, columns=['cluster'], drop_first=True)\n",
    "\n",
    "X_test['cluster'] = kmeans.predict(X_test)\n",
    "X_test = pd.get_dummies(X_test, columns=['cluster'], drop_first=False)\n",
    "\n",
    "for column in X_train.columns:\n",
    "    if column not in X_test.columns:\n",
    "        X_test[column] = False\n",
    "for column in X_test.columns:\n",
    "    if column not in X_train.columns:\n",
    "        X_test.drop(columns=[column], inplace=True)\n",
    "\n",
    "X_test = X_test[X_train.columns]\n",
    "\n",
    "ols_model = LinearRegression()\n",
    "ols_model.fit(X_train, y_train)\n",
    "ols_pred = ols_model.predict(X_test)\n",
    "ols_r2 = r2_score(y_test, ols_pred)\n",
    "ols_rmse = mean_squared_error(y_test, ols_pred, squared=False)\n",
    "\n",
    "lasso_model = Lasso(alpha=0.1)\n",
    "lasso_model.fit(X_train, y_train)\n",
    "lasso_pred = lasso_model.predict(X_test)\n",
    "lasso_r2 = r2_score(y_test, lasso_pred)\n",
    "lasso_rmse = mean_squared_error(y_test, lasso_pred, squared=False)\n",
    "\n",
    "ridge_model = Ridge(alpha=0.1) \n",
    "ridge_model.fit(X_train, y_train)\n",
    "ridge_pred = ridge_model.predict(X_test)\n",
    "ridge_r2 = r2_score(y_test, ridge_pred)\n",
    "ridge_rmse = mean_squared_error(y_test, ridge_pred, squared=False)\n",
    "\n",
    "ols_mae = mean_absolute_error(y_test, ols_pred)\n",
    "lasso_mae = mean_absolute_error(y_test, lasso_pred)\n",
    "ridge_mae = mean_absolute_error(y_test, ridge_pred)\n",
    "\n",
    "results_df = pd.DataFrame({\n",
    "    'Model': ['OLS', 'Lasso', 'Ridge'],\n",
    "    'R-squared': [ols_r2, lasso_r2, ridge_r2],\n",
    "    'RMSE': [ols_rmse, lasso_rmse, ridge_rmse],\n",
    "    'MAE': [ols_mae, lasso_mae, ridge_mae]\n",
    "})\n",
    "\n",
    "print(results_df)"
   ]
  }
 ],
 "metadata": {
  "colab": {
   "provenance": []
  },
  "kernelspec": {
   "display_name": "Python 3 (ipykernel)",
   "language": "python",
   "name": "python3"
  },
  "language_info": {
   "codemirror_mode": {
    "name": "ipython",
    "version": 3
   },
   "file_extension": ".py",
   "mimetype": "text/x-python",
   "name": "python",
   "nbconvert_exporter": "python",
   "pygments_lexer": "ipython3",
   "version": "3.12.2"
  }
 },
 "nbformat": 4,
 "nbformat_minor": 4
}
